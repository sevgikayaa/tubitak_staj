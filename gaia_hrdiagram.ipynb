{
 "cells": [
  {
   "cell_type": "code",
   "execution_count": null,
   "id": "5a5c95e8-e8ce-454e-8e84-a809958b87ca",
   "metadata": {},
   "outputs": [
    {
     "name": "stdout",
     "output_type": "stream",
     "text": [
      "Sorgulanıyor: RA 0-60, DEC -30--10\n",
      "Sorgulanıyor: RA 0-60, DEC -10-10\n",
      "Sorgulanıyor: RA 0-60, DEC 10-30\n"
     ]
    }
   ],
   "source": [
    "import pandas as pd\n",
    "from astroquery.gaia import Gaia\n",
    "import numpy as np\n",
    "import plotly.express as px\n",
    "\n",
    "# Gaia sorgusu için RA ve DEC aralıkları\n",
    "ra_bins = [(0, 60), (60, 120), (120, 180), (180, 240), (240, 300), (300, 360)]\n",
    "dec_bins = [(-30, -10), (-10, 10), (10, 30)]\n",
    "\n",
    "all_results = pd.DataFrame()\n",
    "\n",
    "for ra_min, ra_max in ra_bins:\n",
    "    for dec_min, dec_max in dec_bins:\n",
    "        query = f\"\"\"\n",
    "        SELECT source_id, ra, dec, phot_g_mean_mag, bp_rp, parallax\n",
    "        FROM gaiadr3.gaia_source\n",
    "        WHERE parallax > 10\n",
    "        AND phot_g_mean_mag < 15\n",
    "        AND bp_rp IS NOT NULL\n",
    "        AND ra BETWEEN {ra_min} AND {ra_max}\n",
    "        AND dec BETWEEN {dec_min} AND {dec_max}\n",
    "        \"\"\"\n",
    "        print(f\"Sorgulanıyor: RA {ra_min}-{ra_max}, DEC {dec_min}-{dec_max}\")\n",
    "        job = Gaia.launch_job(query)\n",
    "        results = job.get_results().to_pandas()\n",
    "        all_results = pd.concat([all_results, results], ignore_index=True)\n",
    "\n",
    "# Mesafe ve mutlak parlaklık hesaplama\n",
    "all_results['distance_pc'] = 1000 / all_results['parallax']\n",
    "all_results['abs_mag'] = all_results['phot_g_mean_mag'] - 5 * (np.log10(all_results['distance_pc']) - 1)\n",
    "\n",
    "print(f\"Toplam çekilen yıldız sayısı: {len(all_results)}\")\n",
    "\n",
    "# Interaktif HR diyagramı çizimi\n",
    "fig = px.scatter(\n",
    "    all_results,\n",
    "    x='bp_rp',\n",
    "    y='abs_mag',\n",
    "    labels={'bp_rp': 'BP - RP (Color Index)', 'abs_mag': 'Absolute Magnitude (G Band)'},\n",
    "    title='Interactive Gaia HR Diagram',\n",
    "    color='abs_mag',\n",
    "    color_continuous_scale='plasma_r',\n",
    "    hover_data=['source_id', 'ra', 'dec']\n",
    ")\n",
    "\n",
    "fig.update_yaxes(autorange='reversed')\n",
    "fig.show()"
   ]
  },
  {
   "cell_type": "code",
   "execution_count": null,
   "id": "956538fa-40be-4c95-a6fa-26bb12873157",
   "metadata": {},
   "outputs": [],
   "source": []
  }
 ],
 "metadata": {
  "kernelspec": {
   "display_name": "Python (astro)",
   "language": "python",
   "name": "astro"
  },
  "language_info": {
   "codemirror_mode": {
    "name": "ipython",
    "version": 3
   },
   "file_extension": ".py",
   "mimetype": "text/x-python",
   "name": "python",
   "nbconvert_exporter": "python",
   "pygments_lexer": "ipython3",
   "version": "3.13.5"
  }
 },
 "nbformat": 4,
 "nbformat_minor": 5
}
